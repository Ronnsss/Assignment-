{
 "cells": [
  {
   "cell_type": "markdown",
   "id": "022c5bc7",
   "metadata": {},
   "source": [
    "Q1. Create one variable containing following type of data:"
   ]
  },
  {
   "cell_type": "code",
   "execution_count": 4,
   "id": "fb4a7d17",
   "metadata": {},
   "outputs": [],
   "source": [
    "a = \"str\"\n",
    "b = [12,34,45]\n",
    "c = 12.67\n",
    "d = (1,2,3)"
   ]
  },
  {
   "cell_type": "markdown",
   "id": "b7f15928",
   "metadata": {},
   "source": [
    "Q2. Given are some following variables containing data:"
   ]
  },
  {
   "cell_type": "code",
   "execution_count": 5,
   "id": "d5c24989",
   "metadata": {},
   "outputs": [],
   "source": [
    "var1 = ''\n",
    "var2 = '[DS,ML,Python]'\n",
    "var3 = ['DS','ML','Python']\n",
    "var4 = 1."
   ]
  },
  {
   "cell_type": "code",
   "execution_count": 6,
   "id": "ed797e97",
   "metadata": {},
   "outputs": [
    {
     "data": {
      "text/plain": [
       "str"
      ]
     },
     "execution_count": 6,
     "metadata": {},
     "output_type": "execute_result"
    }
   ],
   "source": [
    "type(var1)\n"
   ]
  },
  {
   "cell_type": "code",
   "execution_count": 7,
   "id": "a855fcc4",
   "metadata": {},
   "outputs": [
    {
     "data": {
      "text/plain": [
       "str"
      ]
     },
     "execution_count": 7,
     "metadata": {},
     "output_type": "execute_result"
    }
   ],
   "source": [
    "type(var2)"
   ]
  },
  {
   "cell_type": "code",
   "execution_count": 8,
   "id": "849b8930",
   "metadata": {},
   "outputs": [
    {
     "data": {
      "text/plain": [
       "list"
      ]
     },
     "execution_count": 8,
     "metadata": {},
     "output_type": "execute_result"
    }
   ],
   "source": [
    "type(var3)"
   ]
  },
  {
   "cell_type": "code",
   "execution_count": 9,
   "id": "8c638a2e",
   "metadata": {},
   "outputs": [
    {
     "data": {
      "text/plain": [
       "float"
      ]
     },
     "execution_count": 9,
     "metadata": {},
     "output_type": "execute_result"
    }
   ],
   "source": [
    "type(var4)"
   ]
  },
  {
   "cell_type": "markdown",
   "id": "86915e9d",
   "metadata": {},
   "source": [
    "Q3 Explain the use of the following operators using an example:"
   ]
  },
  {
   "cell_type": "code",
   "execution_count": 10,
   "id": "b04db3da",
   "metadata": {},
   "outputs": [
    {
     "data": {
      "text/plain": [
       "0.75"
      ]
     },
     "execution_count": 10,
     "metadata": {},
     "output_type": "execute_result"
    }
   ],
   "source": [
    "#Division\n",
    "3/4"
   ]
  },
  {
   "cell_type": "code",
   "execution_count": 11,
   "id": "923c0c1d",
   "metadata": {},
   "outputs": [
    {
     "data": {
      "text/plain": [
       "3"
      ]
     },
     "execution_count": 11,
     "metadata": {},
     "output_type": "execute_result"
    }
   ],
   "source": [
    "#Floor Division\n",
    "10//3"
   ]
  },
  {
   "cell_type": "code",
   "execution_count": 12,
   "id": "3974e3fd",
   "metadata": {},
   "outputs": [
    {
     "data": {
      "text/plain": [
       "1"
      ]
     },
     "execution_count": 12,
     "metadata": {},
     "output_type": "execute_result"
    }
   ],
   "source": [
    "#modulo\n",
    "5%2"
   ]
  },
  {
   "cell_type": "code",
   "execution_count": 13,
   "id": "09e74222",
   "metadata": {},
   "outputs": [
    {
     "data": {
      "text/plain": [
       "8"
      ]
     },
     "execution_count": 13,
     "metadata": {},
     "output_type": "execute_result"
    }
   ],
   "source": [
    "#Power\n",
    "2**3"
   ]
  },
  {
   "cell_type": "markdown",
   "id": "a1369180",
   "metadata": {},
   "source": [
    "Q4. Create a list of length 10 of your choice containing multiple types of data. Using for loop print the\n",
    "element and its data type."
   ]
  },
  {
   "cell_type": "code",
   "execution_count": 2,
   "id": "24e821ea",
   "metadata": {},
   "outputs": [],
   "source": [
    "d = [2,3,4,5,6,'str',True,23.55,1.53]"
   ]
  },
  {
   "cell_type": "code",
   "execution_count": 3,
   "id": "79a422ea",
   "metadata": {},
   "outputs": [
    {
     "name": "stdout",
     "output_type": "stream",
     "text": [
      "2 <class 'int'>\n",
      "3 <class 'int'>\n",
      "4 <class 'int'>\n",
      "5 <class 'int'>\n",
      "6 <class 'int'>\n",
      "str <class 'str'>\n",
      "True <class 'bool'>\n",
      "23.55 <class 'float'>\n",
      "1.53 <class 'float'>\n"
     ]
    }
   ],
   "source": [
    "for i in d:\n",
    "    print((i),type(i))"
   ]
  },
  {
   "cell_type": "markdown",
   "id": "856ac8be",
   "metadata": {},
   "source": [
    "Q5. Using a while loop, verify if the number A is purely divisible by number B and if so then how many\n",
    "times it can be divisible."
   ]
  },
  {
   "cell_type": "code",
   "execution_count": 16,
   "id": "f87a2003",
   "metadata": {},
   "outputs": [
    {
     "name": "stdout",
     "output_type": "stream",
     "text": [
      "4 is divisible by 5 and can be divided 2 times.\n"
     ]
    }
   ],
   "source": [
    "a= 100\n",
    "b= 5\n",
    "\n",
    "count = 0\n",
    "\n",
    "while a%b == 0:\n",
    "    a= a//b\n",
    "    count +=1\n",
    "    \n",
    "if count > 0:\n",
    "    print(f\"{a} is divisible by {b} and can be divided {count} times.\")\n",
    "else:\n",
    "    print(f\"{a} is not divisible by {b}.\")"
   ]
  },
  {
   "cell_type": "markdown",
   "id": "21ee3754",
   "metadata": {},
   "source": [
    "Q6. Create a list containing 25 int type data. Using for loop and if-else condition print if the element is\n",
    "divisible by 3 or not."
   ]
  },
  {
   "cell_type": "code",
   "execution_count": 17,
   "id": "d10787aa",
   "metadata": {},
   "outputs": [
    {
     "name": "stdout",
     "output_type": "stream",
     "text": [
      "5 is not divisible by 3.\n",
      "12 is divisible by 3.\n",
      "7 is not divisible by 3.\n",
      "18 is divisible by 3.\n",
      "20 is not divisible by 3.\n",
      "9 is divisible by 3.\n",
      "11 is not divisible by 3.\n",
      "15 is divisible by 3.\n",
      "6 is divisible by 3.\n",
      "21 is divisible by 3.\n",
      "13 is not divisible by 3.\n",
      "30 is divisible by 3.\n",
      "8 is not divisible by 3.\n",
      "16 is not divisible by 3.\n",
      "3 is divisible by 3.\n",
      "22 is not divisible by 3.\n",
      "19 is not divisible by 3.\n",
      "10 is not divisible by 3.\n",
      "14 is not divisible by 3.\n",
      "24 is divisible by 3.\n",
      "27 is divisible by 3.\n",
      "17 is not divisible by 3.\n",
      "4 is not divisible by 3.\n",
      "25 is not divisible by 3.\n",
      "23 is not divisible by 3.\n"
     ]
    }
   ],
   "source": [
    "s = [5,12,7,18,20,9,11,15,6,21,13,30,8,16,3,22,19,10,14,24,27,17,4,25,23]\n",
    "for num in s:\n",
    "    if num % 3 == 0:\n",
    "        print(f\"{num} is divisible by 3.\")\n",
    "    else:\n",
    "        print(f\"{num} is not divisible by 3.\")\n",
    "    "
   ]
  },
  {
   "cell_type": "markdown",
   "id": "16fba9d5",
   "metadata": {},
   "source": [
    "Q7. What do you understand about mutable and immutable data types? Give examples for both showing\n",
    "this property."
   ]
  },
  {
   "cell_type": "code",
   "execution_count": 19,
   "id": "d31a43b2",
   "metadata": {},
   "outputs": [
    {
     "name": "stdout",
     "output_type": "stream",
     "text": [
      "6\n",
      "HelloWorld\n",
      "[10, 2, 3]\n",
      "{'a': 10, 'b': 2, 'c': 3}\n",
      "{1, 2, 3, 4}\n"
     ]
    }
   ],
   "source": [
    "#Mutable object can be modified after they are created,while immutable objects cannot be changed once they are created.\n",
    "#immutable data types:\n",
    "#integer\n",
    "x=5\n",
    "x=x+1\n",
    "print(x)\n",
    "#string\n",
    "s = 'Hello'\n",
    "s = s + 'World'\n",
    "print(s)\n",
    "\n",
    "#Mutable data types:\n",
    "#list\n",
    "a = [1,2,3]\n",
    "a[0] = 10\n",
    "print(a)\n",
    "\n",
    "#dictionary\n",
    "b={\"a\":1,\"b\":2,\"c\":3}\n",
    "b[\"a\"]=10\n",
    "print(b)\n",
    "\n",
    "#set\n",
    "s = {1,2,3}\n",
    "s.add(4)\n",
    "print(s)"
   ]
  },
  {
   "cell_type": "code",
   "execution_count": null,
   "id": "81764c13",
   "metadata": {},
   "outputs": [],
   "source": []
  }
 ],
 "metadata": {
  "kernelspec": {
   "display_name": "Python 3 (ipykernel)",
   "language": "python",
   "name": "python3"
  },
  "language_info": {
   "codemirror_mode": {
    "name": "ipython",
    "version": 3
   },
   "file_extension": ".py",
   "mimetype": "text/x-python",
   "name": "python",
   "nbconvert_exporter": "python",
   "pygments_lexer": "ipython3",
   "version": "3.9.13"
  }
 },
 "nbformat": 4,
 "nbformat_minor": 5
}
